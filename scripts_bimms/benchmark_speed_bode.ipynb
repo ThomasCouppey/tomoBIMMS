{
 "cells": [
  {
   "cell_type": "markdown",
   "metadata": {},
   "source": [
    "# Speed of AD2 single frequency demodulation\n",
    "\n",
    "Python pre-requisite:"
   ]
  },
  {
   "cell_type": "code",
   "execution_count": 2,
   "metadata": {},
   "outputs": [],
   "source": [
    "import sys\n",
    "sys.path.append(\"/Users/thomascouppey/Desktop/Laboratoire_Etis/System/andi\") #\n",
    "import andi as ai\n",
    "import timeit\n",
    "import numpy as np\n",
    "import matplotlib.pyplot as plt"
   ]
  },
  {
   "cell_type": "markdown",
   "metadata": {},
   "source": [
    "## Open the device"
   ]
  },
  {
   "cell_type": "code",
   "execution_count": 3,
   "metadata": {},
   "outputs": [
    {
     "ename": "Exception",
     "evalue": "Error: No connected or free device",
     "output_type": "error",
     "traceback": [
      "\u001b[0;31m---------------------------------------------------------------------------\u001b[0m",
      "\u001b[0;31mException\u001b[0m                                 Traceback (most recent call last)",
      "Cell \u001b[0;32mIn[3], line 1\u001b[0m\n\u001b[0;32m----> 1\u001b[0m ad2 \u001b[38;5;241m=\u001b[39m \u001b[43mai\u001b[49m\u001b[38;5;241;43m.\u001b[39;49m\u001b[43mAndi\u001b[49m\u001b[43m(\u001b[49m\u001b[43m)\u001b[49m\n",
      "File \u001b[0;32m~/Desktop/Laboratoire_Etis/System/andi/andi/Analysis_Instrument.py:324\u001b[0m, in \u001b[0;36mAndi.__init__\u001b[0;34m(self, *arg)\u001b[0m\n\u001b[1;32m    322\u001b[0m     test \u001b[38;5;241m=\u001b[39m find_first_free_device()\n\u001b[1;32m    323\u001b[0m     \u001b[38;5;28;01mif\u001b[39;00m test \u001b[38;5;241m==\u001b[39m \u001b[38;5;28;01mNone\u001b[39;00m:\n\u001b[0;32m--> 324\u001b[0m         \u001b[38;5;28;01mraise\u001b[39;00m \u001b[38;5;167;01mException\u001b[39;00m(\u001b[38;5;124m'\u001b[39m\u001b[38;5;124mError: No connected or free device\u001b[39m\u001b[38;5;124m'\u001b[39m)\n\u001b[1;32m    325\u001b[0m     \u001b[38;5;28mself\u001b[39m\u001b[38;5;241m.\u001b[39mandi_number \u001b[38;5;241m=\u001b[39m test\n\u001b[1;32m    326\u001b[0m \u001b[38;5;28;01melif\u001b[39;00m \u001b[38;5;28misinstance\u001b[39m(arg[\u001b[38;5;241m0\u001b[39m], \u001b[38;5;28mstr\u001b[39m):\n",
      "\u001b[0;31mException\u001b[0m: Error: No connected or free device"
     ]
    }
   ],
   "source": [
    "ad2 = ai.Andi()\n",
    "\n"
   ]
  },
  {
   "cell_type": "markdown",
   "metadata": {},
   "source": [
    "## Test of the single-frequency measurement method"
   ]
  },
  {
   "cell_type": "code",
   "execution_count": null,
   "metadata": {},
   "outputs": [
    {
     "ename": "",
     "evalue": "",
     "output_type": "error",
     "traceback": [
      "\u001b[1;31mRunning cells with '/Users/thomascouppey/micromamba/envs/bimms/bin/python' requires the ipykernel package.\n",
      "\u001b[1;31mRun the following command to install 'ipykernel' into the Python environment. \n",
      "\u001b[1;31mCommand: 'conda install -p /Users/thomascouppey/micromamba/envs/bimms ipykernel --update-deps --force-reinstall'"
     ]
    }
   ],
   "source": [
    "frequency = 1000\n",
    "Nperiods = 16\n",
    "settling_time = 0.001\n",
    "ad2.configure_network_analyser(amp = 1.0, offset = 0.0, Nperiods = Nperiods)\n",
    "gain, phase, gain_ch1 = ad2.single_frequency_gain_phase(frequency, settling_time=settling_time)"
   ]
  },
  {
   "cell_type": "markdown",
   "metadata": {},
   "source": [
    "## Using timeit to measure execution time of the measurement"
   ]
  },
  {
   "cell_type": "code",
   "execution_count": null,
   "metadata": {},
   "outputs": [
    {
     "ename": "",
     "evalue": "",
     "output_type": "error",
     "traceback": [
      "\u001b[1;31mRunning cells with '/Users/thomascouppey/micromamba/envs/bimms/bin/python' requires the ipykernel package.\n",
      "\u001b[1;31mRun the following command to install 'ipykernel' into the Python environment. \n",
      "\u001b[1;31mCommand: 'conda install -p /Users/thomascouppey/micromamba/envs/bimms ipykernel --update-deps --force-reinstall'"
     ]
    }
   ],
   "source": [
    "ad2.configure_network_analyser(amp = 1.0, offset = 0.0, Nperiods = Nperiods)\n",
    "t = timeit.Timer(lambda: ad2.single_frequency_gain_phase(frequency, settling_time=settling_time))  \n",
    "n_ext = 10\n",
    "t_exc = t.timeit(number=n_ext)\n",
    "print(f\"execution time: {round(t_exc/n_ext,4)}s\")"
   ]
  },
  {
   "cell_type": "markdown",
   "metadata": {},
   "source": [
    "## Frequency versus excecution time and for 8, 16, and 32 cycles"
   ]
  },
  {
   "cell_type": "code",
   "execution_count": null,
   "metadata": {},
   "outputs": [
    {
     "ename": "",
     "evalue": "",
     "output_type": "error",
     "traceback": [
      "\u001b[1;31mRunning cells with '/Users/thomascouppey/micromamba/envs/bimms/bin/python' requires the ipykernel package.\n",
      "\u001b[1;31mRun the following command to install 'ipykernel' into the Python environment. \n",
      "\u001b[1;31mCommand: 'conda install -p /Users/thomascouppey/micromamba/envs/bimms ipykernel --update-deps --force-reinstall'"
     ]
    }
   ],
   "source": [
    "def theoretical_exec_time(freq,n_period,settling_time):\n",
    "    return((n_period/freq)+ 11*settling_time)\n",
    "\n",
    "fstart=  100    #100Hz\n",
    "fstop = 10e6    #10MHz\n",
    "n_points = 11\n",
    "freq_l = np.logspace(np.log10(fstart), np.log10(fstop), num = n_points)\n",
    "settling_time = 0.001\n",
    "Nperiods_l = [8,16,32]\n",
    "\n",
    "Nperiods_c = [\"seagreen\",\"darkcyan\",\"goldenrod\"]\n",
    "\n",
    "n_ext = 5\n",
    "plt.figure()\n",
    "for idx,Nperiods in enumerate(Nperiods_l):\n",
    "    t_exc_l = []\n",
    "    t_exc_th = []\n",
    "    for freq in freq_l:\n",
    "        ad2.configure_network_analyser(amp = 1.0, offset = 0.0, Nperiods = Nperiods)\n",
    "        t = timeit.Timer(lambda: ad2.single_frequency_gain_phase(freq, settling_time=settling_time))  \n",
    "        t_exc = t.timeit(number=n_ext)\n",
    "        t_exc = round(t_exc/n_ext,4)\n",
    "        t_exc_l.append(t_exc)\n",
    "        t_exc_th.append(theoretical_exec_time(freq,Nperiods,settling_time))\n",
    "    plt.loglog(freq_l,t_exc_l,label = f'Measured {Nperiods} cycles',color = Nperiods_c[idx])\n",
    "    plt.loglog(freq_l,t_exc_th,label = f'Theoretical {Nperiods} cycles',ls = '--',color = Nperiods_c[idx])\n",
    "plt.xlabel(\"Frequency (Hz)\")\n",
    "plt.ylabel(\"Execution Time (s)\")\n",
    "plt.legend()\n",
    "plt.show()"
   ]
  },
  {
   "cell_type": "markdown",
   "metadata": {},
   "source": [
    "## Idem but with the settling time set to 0s, 0.001s, and to 0.01s."
   ]
  },
  {
   "cell_type": "code",
   "execution_count": null,
   "metadata": {},
   "outputs": [
    {
     "ename": "",
     "evalue": "",
     "output_type": "error",
     "traceback": [
      "\u001b[1;31mRunning cells with '/Users/thomascouppey/micromamba/envs/bimms/bin/python' requires the ipykernel package.\n",
      "\u001b[1;31mRun the following command to install 'ipykernel' into the Python environment. \n",
      "\u001b[1;31mCommand: 'conda install -p /Users/thomascouppey/micromamba/envs/bimms ipykernel --update-deps --force-reinstall'"
     ]
    }
   ],
   "source": [
    "settling_time_l = [0,0.001,0.01]\n",
    "Nperiod = 16\n",
    "\n",
    "settling_time_c = [\"seagreen\",\"darkcyan\",\"goldenrod\"]\n",
    "\n",
    "n_ext = 5\n",
    "plt.figure()\n",
    "for idx,settling_time in enumerate(settling_time_l):\n",
    "    t_exc_l = []\n",
    "    t_exc_th = []\n",
    "    for freq in freq_l:\n",
    "        ad2.configure_network_analyser(amp = 1.0, offset = 0.0, Nperiods = Nperiods)\n",
    "        t = timeit.Timer(lambda: ad2.single_frequency_gain_phase(freq, settling_time=settling_time))  \n",
    "        t_exc = t.timeit(number=n_ext)\n",
    "        t_exc = round(t_exc/n_ext,4)\n",
    "        t_exc_l.append(t_exc)\n",
    "        t_exc_th.append(theoretical_exec_time(freq,Nperiods,settling_time))\n",
    "    plt.loglog(freq_l,t_exc_l,label = f'Measured {settling_time} settling',color = settling_time_c[idx])\n",
    "    plt.loglog(freq_l,t_exc_th,label = f'Theoretical {settling_time} settling',ls = '--',color = settling_time_c[idx])\n",
    "plt.xlabel(\"Frequency (Hz)\")\n",
    "plt.ylabel(\"Execution Time (s)\")\n",
    "plt.legend()\n",
    "plt.show()"
   ]
  },
  {
   "cell_type": "markdown",
   "metadata": {},
   "source": [
    "## Benchmarks with a custom single-frequency method"
   ]
  },
  {
   "cell_type": "code",
   "execution_count": null,
   "metadata": {},
   "outputs": [
    {
     "ename": "",
     "evalue": "",
     "output_type": "error",
     "traceback": [
      "\u001b[1;31mRunning cells with '/Users/thomascouppey/micromamba/envs/bimms/bin/python' requires the ipykernel package.\n",
      "\u001b[1;31mRun the following command to install 'ipykernel' into the Python environment. \n",
      "\u001b[1;31mCommand: 'conda install -p /Users/thomascouppey/micromamba/envs/bimms ipykernel --update-deps --force-reinstall'"
     ]
    }
   ],
   "source": [
    "from time import sleep\n",
    "\n",
    "\n",
    "def theoretical_exec_time_fast(freq,n_period,settling_time):\n",
    "    return((n_period/freq)+ settling_time)\n",
    "\n",
    "def conf_single_frequency_fast(ad2,frequency,settling_time,Nperiods,amp = 1.0,offset = 0):\n",
    "    ad2.configure_network_analyser(amp,offset,Nperiods)\n",
    "    ad2.set_analyser_frequency(frequency)\n",
    "    sleep(settling_time)\n",
    "    \n",
    "def single_frequency_fast(ad2,settling_time): \n",
    "        if (settling_time):\n",
    "            sleep(settling_time)\n",
    "        ad2.analyzer_ignore_last_value() # ignore last capture\n",
    "        while True:\n",
    "            status = ad2.get_analyser_status()\n",
    "            if status == 2: \t# same comment as above...\n",
    "                break\n",
    "        gain1, phase1 = ad2.get_analyser_raw_input(0)\n",
    "        gain, phase = ad2.get_analyser_raw_input(1)\n",
    "        return gain, phase, gain1\n",
    "\n",
    "fstart=  100    #100Hz\n",
    "fstop = 10e6    #10MHz\n",
    "n_points = 11\n",
    "freq_l = np.logspace(np.log10(fstart), np.log10(fstop), num = n_points)\n",
    "settling_time = 0.001\n",
    "Nperiods_l = [8,16,32]\n",
    "\n",
    "Nperiods_c = [\"seagreen\",\"darkcyan\",\"goldenrod\"]\n",
    "\n",
    "n_ext = 5\n",
    "plt.figure()\n",
    "for idx,Nperiods in enumerate(Nperiods_l):\n",
    "    t_exc_l = []\n",
    "    t_exc_th = []\n",
    "    for freq in freq_l:\n",
    "        conf_single_frequency_fast(ad2,freq,settling_time =settling_time,  Nperiods = Nperiods)\n",
    "        t = timeit.Timer(lambda: single_frequency_fast(ad2,settling_time))  \n",
    "        t_exc = t.timeit(number=n_ext)\n",
    "        t_exc = round(t_exc/n_ext,4)\n",
    "        t_exc_l.append(t_exc)\n",
    "        t_exc_th.append(theoretical_exec_time_fast(freq,Nperiods,settling_time))\n",
    "    plt.loglog(freq_l,t_exc_l,label = f'Measured {Nperiods} cycles',color = Nperiods_c[idx])\n",
    "    plt.loglog(freq_l,t_exc_th,label = f'Theoretical {Nperiods} cycles',ls = '--',color = Nperiods_c[idx])\n",
    "plt.xlabel(\"Frequency (Hz)\")\n",
    "plt.ylabel(\"Execution Time (s)\")\n",
    "plt.legend()\n",
    "plt.show()"
   ]
  },
  {
   "cell_type": "code",
   "execution_count": null,
   "metadata": {},
   "outputs": [
    {
     "ename": "",
     "evalue": "",
     "output_type": "error",
     "traceback": [
      "\u001b[1;31mRunning cells with '/Users/thomascouppey/micromamba/envs/bimms/bin/python' requires the ipykernel package.\n",
      "\u001b[1;31mRun the following command to install 'ipykernel' into the Python environment. \n",
      "\u001b[1;31mCommand: 'conda install -p /Users/thomascouppey/micromamba/envs/bimms ipykernel --update-deps --force-reinstall'"
     ]
    }
   ],
   "source": [
    "settling_time_l = [0,0.001,0.01]\n",
    "Nperiod = 16\n",
    "\n",
    "settling_time_c = [\"seagreen\",\"darkcyan\",\"goldenrod\"]\n",
    "\n",
    "n_ext = 5\n",
    "plt.figure()\n",
    "for idx,settling_time in enumerate(settling_time_l):\n",
    "    t_exc_l = []\n",
    "    t_exc_th = []\n",
    "    for freq in freq_l:\n",
    "        conf_single_frequency_fast(ad2,freq,settling_time =settling_time,  Nperiods = Nperiods)\n",
    "        t = timeit.Timer(lambda: single_frequency_fast(ad2,settling_time))  \n",
    "        t_exc = t.timeit(number=n_ext)\n",
    "        t_exc = round(t_exc/n_ext,4)\n",
    "        t_exc_l.append(t_exc)\n",
    "        t_exc_th.append(theoretical_exec_time_fast(freq,Nperiods,settling_time))\n",
    "    plt.loglog(freq_l,t_exc_l,label = f'Measured {settling_time} settling',color = settling_time_c[idx])\n",
    "    plt.loglog(freq_l,t_exc_th,label = f'Theoretical {settling_time} settling',ls = '--',color = settling_time_c[idx])\n",
    "plt.xlabel(\"Frequency (Hz)\")\n",
    "plt.ylabel(\"Execution Time (s)\")\n",
    "plt.legend()\n",
    "plt.show()"
   ]
  }
 ],
 "metadata": {
  "kernelspec": {
   "display_name": "nrv",
   "language": "python",
   "name": "python3"
  },
  "language_info": {
   "codemirror_mode": {
    "name": "ipython",
    "version": 3
   },
   "file_extension": ".py",
   "mimetype": "text/x-python",
   "name": "python",
   "nbconvert_exporter": "python",
   "pygments_lexer": "ipython3",
   "version": "3.10.13"
  }
 },
 "nbformat": 4,
 "nbformat_minor": 2
}
